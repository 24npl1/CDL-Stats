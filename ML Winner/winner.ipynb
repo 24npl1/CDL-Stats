{
 "cells": [
  {
   "cell_type": "code",
   "execution_count": 45,
   "metadata": {},
   "outputs": [
    {
     "ename": "",
     "evalue": "",
     "output_type": "error",
     "traceback": [
      "\u001b[1;31mRunning cells with 'pythonProject' requires the ipykernel package.\n",
      "\u001b[1;31mRun the following command to install 'ipykernel' into the Python environment. \n",
      "\u001b[1;31mCommand: 'conda install -n pythonProject ipykernel --update-deps --force-reinstall'"
     ]
    }
   ],
   "source": [
    "import pandas as pd\n",
    "from predict_winner import read_in_all_matches\n",
    "\n",
    "def declare_winner(df: pd.DataFrame) -> pd.DataFrame:\n",
    "    df['map_winner'] = [\"host\" if a > b else \"guest\" for a, b in zip(df['matchGameResult.hostGameScore'], df['matchGameResult.guestGameScore'])]\n",
    "\n",
    "    df['is_winner'] = [\"Y\" if a == b else \"N\" for a, b in zip(df['map_winner'], df['team_type'])]\n",
    "\n",
    "    return df\n",
    "\n",
    "def head_to_head(data, main, opposition):\n",
    "    data = declare_winner(data)\n",
    "    grouping = {a: 'sum' for a in ['totalDamageDealt', 'totalKills', 'totalDeaths', 'totalFirstBloodKills', 'totalRotationKills', 'totalShotsHit', 'totalShotsFired']}\n",
    "    grouping2 = {b: 'first' for b in ['team_type', 'matchGameResult.guestGameScore', 'matchGameResult.hostGameScore']}\n",
    "    full_group = {**grouping , **grouping2}\n",
    "    group = data.groupby(['gameMap', 'oppo_abbrev', 'abbrev', 'gameMode', 'map_winner', 'matchGame.matchId']).agg(full_group)\n",
    "\n",
    "    group['rounds'] = group['matchGameResult.guestGameScore']+group['matchGameResult.hostGameScore']\n",
    "    group['teamKd'] = group['totalKills']/group['totalDeaths']\n",
    "    group['accuracy'] = group['totalShotsHit']/group['totalShotsFired']\n",
    "    group['rotationalPercent'] = group['totalRotationKills']/group['totalKills']\n",
    "    group['fbPerc'] = group['totalFirstBloodKills']/group['rounds']\n",
    "\n",
    "    group.reset_index(inplace=True)\n",
    "    group.drop(columns=['totalShotsHit', 'totalShotsFired', 'totalKills', 'totalDeaths', 'totalRotationKills', 'matchGameResult.hostGameScore', \n",
    "                        'matchGameResult.guestGameScore', 'totalFirstBloodKills'], inplace=True)\n",
    "    \n",
    "    data_opp = group[group['oppo_abbrev']==opposition]\n",
    "    data_opp = data_opp[data_opp['abbrev']== main]\n",
    "    data_opp2 = group[group['abbrev']==opposition]\n",
    "    data_opp2 = data_opp2[data_opp2['oppo_abbrev']== main].drop(columns=['oppo_abbrev', 'abbrev', 'team_type'])\n",
    "\n",
    "    joined = pd.merge(data_opp, data_opp2, on=['matchGame.matchId', 'gameMap', 'gameMode'], suffixes=('_team1', '_team2'))\n",
    "\n",
    "    snd_a = joined[joined['gameMode']=='CDL SnD'].drop(columns=['rotationalPercent_team1', 'rotationalPercent_team2'],\n",
    "                                                       axis=1).dropna(how='any', axis=0).groupby('gameMode').mean().drop('matchGame.matchId', axis=1)\n",
    "    hp_a = joined[joined['gameMode']=='CDL SnD'].drop(columns=['fbPerc_team1', 'fbPerc_team2'],\n",
    "                                                      axis=1).dropna(how='any', axis=0).groupby('gameMode').mean().drop('matchGame.matchId', axis=1)\n",
    "    control_a = joined[joined['gameMode']=='CDL Control'].drop(columns=['rotationalPercent_team1', 'rotationalPercent_team2', 'fbPerc_team1',\n",
    "                                                                        'fbPerc_team2'], axis=1).dropna(how='any', axis=0).groupby('gameMode').mean().drop('matchGame.matchId', axis=1)\n",
    "\n",
    "    data = read_in_all_matches()\n",
    "    data = declare_winner(data)\n",
    "    \n",
    "    home = data[data['abbrev']==main]\n",
    "    home = home[home['oppo_abbrev']!=opposition]\n",
    "    grouping = {a: 'sum' for a in ['totalDamageDealt', 'totalKills', 'totalDeaths', 'totalFirstBloodKills', 'totalRotationKills', 'totalShotsHit', 'totalShotsFired']}\n",
    "    grouping2 = {b: 'first' for b in ['team_type', 'matchGameResult.guestGameScore', 'matchGameResult.hostGameScore', 'matchGame.updatedAt']}\n",
    "    full_group = {**grouping , **grouping2}\n",
    "    group = home.groupby(['gameMap', 'oppo_abbrev', 'abbrev', 'gameMode', 'map_winner', 'matchGame.matchId']).agg(full_group)\n",
    "\n",
    "    group['rounds'] = group['matchGameResult.guestGameScore']+group['matchGameResult.hostGameScore']\n",
    "    group['teamKd'] = group['totalKills']/group['totalDeaths']\n",
    "    group['accuracy'] = group['totalShotsHit']/group['totalShotsFired']\n",
    "    group['rotationalPercent'] = group['totalRotationKills']/group['totalKills']\n",
    "    group['fbPerc'] = group['totalFirstBloodKills']/group['rounds']\n",
    "\n",
    "    group.reset_index(inplace=True)\n",
    "    group.drop(columns=['totalShotsHit', 'totalShotsFired', 'totalKills', 'totalDeaths', 'totalRotationKills', 'matchGameResult.hostGameScore', \n",
    "                        'matchGameResult.guestGameScore', 'totalFirstBloodKills', 'rounds', 'team_type', 'map_winner'], inplace=True)\n",
    "    group = group.sort_values('matchGame.updatedAt', ascending=False)\n",
    "    group = group[0:15]\n",
    "\n",
    "\n",
    "    snd = group[group['gameMode']=='CDL SnD'].drop(columns=['rotationalPercent'], \n",
    "                                                   axis=1).dropna(how='any', axis=0).groupby('gameMode').mean().drop(columns=['matchGame.matchId', 'matchGame.updatedAt'],\n",
    "                                                                                                                         axis=1)\n",
    "    hp = group[group['gameMode']=='CDL SnD'].drop(columns=['fbPerc'],\n",
    "                                                   axis=1).dropna(how='any', axis=0).groupby('gameMode').mean().drop(columns=['matchGame.matchId', 'matchGame.updatedAt'],\n",
    "                                                                                                                         axis=1)\n",
    "    control = group[group['gameMode']=='CDL Control'].drop(columns=['rotationalPercent',\n",
    "                                                                     'fbPerc'], axis=1).dropna(how='any', axis=0).groupby('gameMode').mean().drop(columns=['matchGame.matchId', 'matchGame.updatedAt'],\n",
    "                                                                                                                         axis=1)\n",
    "\n",
    "    home = data[data['abbrev']==opposition]\n",
    "    home = home[home['oppo_abbrev']!=main]\n",
    "    grouping = {a: 'sum' for a in ['totalDamageDealt', 'totalKills', 'totalDeaths', 'totalFirstBloodKills', 'totalRotationKills', 'totalShotsHit', 'totalShotsFired']}\n",
    "    grouping2 = {b: 'first' for b in ['team_type', 'matchGameResult.guestGameScore', 'matchGameResult.hostGameScore', 'matchGame.updatedAt']}\n",
    "    full_group = {**grouping , **grouping2}\n",
    "    group = home.groupby(['gameMap', 'oppo_abbrev', 'abbrev', 'gameMode', 'map_winner', 'matchGame.matchId']).agg(full_group)\n",
    "\n",
    "    group['rounds'] = group['matchGameResult.guestGameScore']+group['matchGameResult.hostGameScore']\n",
    "    group['teamKd'] = group['totalKills']/group['totalDeaths']\n",
    "    group['accuracy'] = group['totalShotsHit']/group['totalShotsFired']\n",
    "    group['rotationalPercent'] = group['totalRotationKills']/group['totalKills']\n",
    "    group['fbPerc'] = group['totalFirstBloodKills']/group['rounds']\n",
    "\n",
    "    group.reset_index(inplace=True)\n",
    "    group.drop(columns=['totalShotsHit', 'totalShotsFired', 'totalKills', 'totalDeaths', 'totalRotationKills', 'matchGameResult.hostGameScore', \n",
    "                        'matchGameResult.guestGameScore', 'totalFirstBloodKills', 'rounds', 'team_type', 'map_winner'], inplace=True)\n",
    "    group = group.sort_values('matchGame.updatedAt', ascending=False)\n",
    "    group = group[0:15]\n",
    "\n",
    "    snd_op = group[group['gameMode']=='CDL SnD'].drop(columns=['rotationalPercent'],\n",
    "                                                       axis=1).dropna(how='any', axis=0).groupby('gameMode').mean().drop(columns=['matchGame.matchId', 'matchGame.updatedAt'],\n",
    "                                                                                                                         axis=1)\n",
    "    hp_op = group[group['gameMode']=='CDL SnD'].drop(columns=['fbPerc'],\n",
    "                                                      axis=1).dropna(how='any', axis=0).groupby('gameMode').mean().drop(columns=['matchGame.matchId', 'matchGame.updatedAt'],\n",
    "                                                                                                                         axis=1)\n",
    "    control_op = group[group['gameMode']=='CDL Control'].drop(columns=['rotationalPercent',\n",
    "                                                                        'fbPerc'], axis=1).dropna(how='any', axis=0).groupby('gameMode').mean().drop(columns=['matchGame.matchId', 'matchGame.updatedAt'],\n",
    "                                                                                                                         axis=1)\n",
    "\n",
    "    snd_j = pd.merge(snd, snd_op, on='gameMode', suffixes=('_team1', '_team2'))\n",
    "    hp_j = pd.merge(hp, hp_op, on='gameMode', suffixes=('_team1', '_team2'))\n",
    "    control_j = pd.merge(control, control_op, on='gameMode', suffixes=('_team1', '_team2'))\n",
    "\n",
    "    search = pd.concat([snd_a, snd_j]).drop(columns=['rounds_team1', 'rounds_team2'], axis=1).groupby('gameMode').mean()\n",
    "    hard = pd.concat([hp_a, hp_j]).drop(columns=['rounds_team1', 'rounds_team2'], axis=1).groupby('gameMode').mean()\n",
    "    cntl = pd.concat([control_a, control_j]).drop(columns=['rounds_team1', 'rounds_team2'], axis=1).groupby('gameMode').mean()\n",
    "\n",
    "\n",
    "    return search, hard, cntl\n",
    "\n",
    "\n",
    "d = read_in_all_matches()\n",
    "s, h, c = head_to_head(d, \"TX\", \"BOS\")\n",
    "tm = {0: \"TX\",\n",
    "      1: \"BOS\"}"
   ]
  },
  {
   "cell_type": "code",
   "execution_count": 46,
   "metadata": {},
   "outputs": [
    {
     "data": {
      "text/plain": [
       "['BOS']"
      ]
     },
     "execution_count": 46,
     "metadata": {},
     "output_type": "execute_result"
    }
   ],
   "source": [
    "from predict_winner import hardpoint_model, control_model, snd_model\n",
    "\n",
    "\n",
    "hardpoint_model(h, tm)"
   ]
  },
  {
   "cell_type": "code",
   "execution_count": 47,
   "metadata": {},
   "outputs": [
    {
     "ename": "KeyboardInterrupt",
     "evalue": "",
     "output_type": "error",
     "traceback": [
      "\u001b[0;31m---------------------------------------------------------------------------\u001b[0m",
      "\u001b[0;31mKeyboardInterrupt\u001b[0m                         Traceback (most recent call last)",
      "\u001b[0;32m/var/folders/17/vpppp3bj61zf7czx0x_3swmw0000gn/T/ipykernel_6358/2678035982.py\u001b[0m in \u001b[0;36m<module>\u001b[0;34m\u001b[0m\n\u001b[0;32m----> 1\u001b[0;31m \u001b[0mcontrol_model\u001b[0m\u001b[0;34m(\u001b[0m\u001b[0mc\u001b[0m\u001b[0;34m,\u001b[0m \u001b[0mtm\u001b[0m\u001b[0;34m)\u001b[0m\u001b[0;34m\u001b[0m\u001b[0;34m\u001b[0m\u001b[0m\n\u001b[0m",
      "\u001b[0;32m~/parcel-tracker/CDL-Stats/CDL-Stats/ML Winner/predict_winner.py\u001b[0m in \u001b[0;36mcontrol_model\u001b[0;34m(predict_data, team_map, sim_count)\u001b[0m\n\u001b[1;32m     63\u001b[0m \u001b[0;34m\u001b[0m\u001b[0m\n\u001b[1;32m     64\u001b[0m \u001b[0;32mdef\u001b[0m \u001b[0mcontrol_model\u001b[0m\u001b[0;34m(\u001b[0m\u001b[0mpredict_data\u001b[0m\u001b[0;34m,\u001b[0m \u001b[0mteam_map\u001b[0m\u001b[0;34m,\u001b[0m \u001b[0msim_count\u001b[0m\u001b[0;34m=\u001b[0m\u001b[0;36m1\u001b[0m\u001b[0;34m)\u001b[0m\u001b[0;34m:\u001b[0m\u001b[0;34m\u001b[0m\u001b[0;34m\u001b[0m\u001b[0m\n\u001b[0;32m---> 65\u001b[0;31m     \u001b[0mdat\u001b[0m \u001b[0;34m=\u001b[0m \u001b[0mreshape_all\u001b[0m\u001b[0;34m(\u001b[0m\u001b[0;34m)\u001b[0m\u001b[0;34m\u001b[0m\u001b[0;34m\u001b[0m\u001b[0m\n\u001b[0m\u001b[1;32m     66\u001b[0m     \u001b[0mcnt\u001b[0m \u001b[0;34m=\u001b[0m \u001b[0mdat\u001b[0m\u001b[0;34m[\u001b[0m\u001b[0mdat\u001b[0m\u001b[0;34m[\u001b[0m\u001b[0;34m'mode'\u001b[0m\u001b[0;34m]\u001b[0m\u001b[0;34m==\u001b[0m\u001b[0;34m'CDL Control'\u001b[0m\u001b[0;34m]\u001b[0m\u001b[0;34m.\u001b[0m\u001b[0mdrop\u001b[0m\u001b[0;34m(\u001b[0m\u001b[0;34m[\u001b[0m\u001b[0;34m'fbPerc_team1'\u001b[0m\u001b[0;34m,\u001b[0m \u001b[0;34m'fbPerc_team2'\u001b[0m\u001b[0;34m,\u001b[0m \u001b[0;34m'rotationalPercent_team1'\u001b[0m\u001b[0;34m,\u001b[0m \u001b[0;34m'rotationalPercent_team2'\u001b[0m\u001b[0;34m]\u001b[0m\u001b[0;34m,\u001b[0m \u001b[0maxis\u001b[0m\u001b[0;34m=\u001b[0m\u001b[0;36m1\u001b[0m\u001b[0;34m)\u001b[0m\u001b[0;34m\u001b[0m\u001b[0;34m\u001b[0m\u001b[0m\n\u001b[1;32m     67\u001b[0m     \u001b[0mcnt\u001b[0m\u001b[0;34m.\u001b[0m\u001b[0mdropna\u001b[0m\u001b[0;34m(\u001b[0m\u001b[0mhow\u001b[0m\u001b[0;34m=\u001b[0m\u001b[0;34m'any'\u001b[0m\u001b[0;34m,\u001b[0m \u001b[0maxis\u001b[0m\u001b[0;34m=\u001b[0m\u001b[0;36m0\u001b[0m\u001b[0;34m,\u001b[0m \u001b[0minplace\u001b[0m\u001b[0;34m=\u001b[0m\u001b[0;32mTrue\u001b[0m\u001b[0;34m)\u001b[0m\u001b[0;34m\u001b[0m\u001b[0;34m\u001b[0m\u001b[0m\n",
      "\u001b[0;32m~/parcel-tracker/CDL-Stats/CDL-Stats/ML Winner/predict_winner.py\u001b[0m in \u001b[0;36mreshape_all\u001b[0;34m()\u001b[0m\n\u001b[1;32m     43\u001b[0m \u001b[0;34m\u001b[0m\u001b[0m\n\u001b[1;32m     44\u001b[0m \u001b[0;32mdef\u001b[0m \u001b[0mreshape_all\u001b[0m\u001b[0;34m(\u001b[0m\u001b[0;34m)\u001b[0m\u001b[0;34m:\u001b[0m\u001b[0;34m\u001b[0m\u001b[0;34m\u001b[0m\u001b[0m\n\u001b[0;32m---> 45\u001b[0;31m     \u001b[0mdf\u001b[0m \u001b[0;34m=\u001b[0m \u001b[0mread_in_all_matches\u001b[0m\u001b[0;34m(\u001b[0m\u001b[0;34m)\u001b[0m\u001b[0;34m\u001b[0m\u001b[0;34m\u001b[0m\u001b[0m\n\u001b[0m\u001b[1;32m     46\u001b[0m     \u001b[0mdf\u001b[0m \u001b[0;34m=\u001b[0m \u001b[0mreshape_match\u001b[0m\u001b[0;34m(\u001b[0m\u001b[0mdf\u001b[0m\u001b[0;34m)\u001b[0m\u001b[0;34m\u001b[0m\u001b[0;34m\u001b[0m\u001b[0m\n\u001b[1;32m     47\u001b[0m     \u001b[0;32mreturn\u001b[0m \u001b[0mdf\u001b[0m\u001b[0;34m\u001b[0m\u001b[0;34m\u001b[0m\u001b[0m\n",
      "\u001b[0;32m~/parcel-tracker/CDL-Stats/CDL-Stats/ML Winner/predict_winner.py\u001b[0m in \u001b[0;36mread_in_all_matches\u001b[0;34m()\u001b[0m\n\u001b[1;32m     20\u001b[0m     \u001b[0mm2_qual\u001b[0m \u001b[0;34m=\u001b[0m \u001b[0mread_in_list\u001b[0m\u001b[0;34m(\u001b[0m\u001b[0mmatchIDs\u001b[0m\u001b[0;34m[\u001b[0m\u001b[0;34m'major2'\u001b[0m\u001b[0;34m]\u001b[0m\u001b[0;34m[\u001b[0m\u001b[0;36m0\u001b[0m\u001b[0;34m]\u001b[0m\u001b[0;34m)\u001b[0m\u001b[0;34m\u001b[0m\u001b[0;34m\u001b[0m\u001b[0m\n\u001b[1;32m     21\u001b[0m     \u001b[0mm2_event\u001b[0m \u001b[0;34m=\u001b[0m \u001b[0mread_in_list\u001b[0m\u001b[0;34m(\u001b[0m\u001b[0mmatchIDs\u001b[0m\u001b[0;34m[\u001b[0m\u001b[0;34m'major2'\u001b[0m\u001b[0;34m]\u001b[0m\u001b[0;34m[\u001b[0m\u001b[0;36m1\u001b[0m\u001b[0;34m]\u001b[0m\u001b[0;34m)\u001b[0m\u001b[0;34m\u001b[0m\u001b[0;34m\u001b[0m\u001b[0m\n\u001b[0;32m---> 22\u001b[0;31m     \u001b[0mm3_qual\u001b[0m \u001b[0;34m=\u001b[0m \u001b[0mread_in_list\u001b[0m\u001b[0;34m(\u001b[0m\u001b[0mmatchIDs\u001b[0m\u001b[0;34m[\u001b[0m\u001b[0;34m'major3'\u001b[0m\u001b[0;34m]\u001b[0m\u001b[0;34m[\u001b[0m\u001b[0;36m0\u001b[0m\u001b[0;34m]\u001b[0m\u001b[0;34m)\u001b[0m\u001b[0;34m\u001b[0m\u001b[0;34m\u001b[0m\u001b[0m\n\u001b[0m\u001b[1;32m     23\u001b[0m \u001b[0;34m\u001b[0m\u001b[0m\n\u001b[1;32m     24\u001b[0m     \u001b[0mm1_qual\u001b[0m\u001b[0;34m[\u001b[0m\u001b[0;34m'event'\u001b[0m\u001b[0;34m]\u001b[0m \u001b[0;34m=\u001b[0m \u001b[0;34m[\u001b[0m\u001b[0;34m'M1Qual'\u001b[0m \u001b[0;32mfor\u001b[0m \u001b[0mi\u001b[0m \u001b[0;32min\u001b[0m \u001b[0mm1_qual\u001b[0m\u001b[0;34m[\u001b[0m\u001b[0mm1_qual\u001b[0m\u001b[0;34m.\u001b[0m\u001b[0mcolumns\u001b[0m\u001b[0;34m[\u001b[0m\u001b[0;36m0\u001b[0m\u001b[0;34m]\u001b[0m\u001b[0;34m]\u001b[0m\u001b[0;34m]\u001b[0m\u001b[0;34m\u001b[0m\u001b[0;34m\u001b[0m\u001b[0m\n",
      "\u001b[0;32m~/parcel-tracker/CDL-Stats/CDL-Stats/ML Winner/predict_winner.py\u001b[0m in \u001b[0;36mread_in_list\u001b[0;34m(ids)\u001b[0m\n\u001b[1;32m     11\u001b[0m     \u001b[0mframes\u001b[0m \u001b[0;34m=\u001b[0m \u001b[0;34m[\u001b[0m\u001b[0;34m]\u001b[0m\u001b[0;34m\u001b[0m\u001b[0;34m\u001b[0m\u001b[0m\n\u001b[1;32m     12\u001b[0m     \u001b[0;32mfor\u001b[0m \u001b[0midd\u001b[0m \u001b[0;32min\u001b[0m \u001b[0mids\u001b[0m\u001b[0;34m:\u001b[0m\u001b[0;34m\u001b[0m\u001b[0;34m\u001b[0m\u001b[0m\n\u001b[0;32m---> 13\u001b[0;31m         \u001b[0mframes\u001b[0m\u001b[0;34m.\u001b[0m\u001b[0mappend\u001b[0m\u001b[0;34m(\u001b[0m\u001b[0mpd\u001b[0m\u001b[0;34m.\u001b[0m\u001b[0mread_csv\u001b[0m\u001b[0;34m(\u001b[0m\u001b[0;34mf'../data/cdl_{idd}.csv'\u001b[0m\u001b[0;34m)\u001b[0m\u001b[0;34m)\u001b[0m\u001b[0;34m\u001b[0m\u001b[0;34m\u001b[0m\u001b[0m\n\u001b[0m\u001b[1;32m     14\u001b[0m     \u001b[0;32mreturn\u001b[0m \u001b[0mpd\u001b[0m\u001b[0;34m.\u001b[0m\u001b[0mconcat\u001b[0m\u001b[0;34m(\u001b[0m\u001b[0mframes\u001b[0m\u001b[0;34m)\u001b[0m\u001b[0;34m\u001b[0m\u001b[0;34m\u001b[0m\u001b[0m\n\u001b[1;32m     15\u001b[0m \u001b[0;34m\u001b[0m\u001b[0m\n",
      "\u001b[0;32m~/parcel-tracker/CDL-Stats/CDL-Stats/venv/lib/python3.7/site-packages/pandas/util/_decorators.py\u001b[0m in \u001b[0;36mwrapper\u001b[0;34m(*args, **kwargs)\u001b[0m\n\u001b[1;32m    309\u001b[0m                     \u001b[0mstacklevel\u001b[0m\u001b[0;34m=\u001b[0m\u001b[0mstacklevel\u001b[0m\u001b[0;34m,\u001b[0m\u001b[0;34m\u001b[0m\u001b[0;34m\u001b[0m\u001b[0m\n\u001b[1;32m    310\u001b[0m                 )\n\u001b[0;32m--> 311\u001b[0;31m             \u001b[0;32mreturn\u001b[0m \u001b[0mfunc\u001b[0m\u001b[0;34m(\u001b[0m\u001b[0;34m*\u001b[0m\u001b[0margs\u001b[0m\u001b[0;34m,\u001b[0m \u001b[0;34m**\u001b[0m\u001b[0mkwargs\u001b[0m\u001b[0;34m)\u001b[0m\u001b[0;34m\u001b[0m\u001b[0;34m\u001b[0m\u001b[0m\n\u001b[0m\u001b[1;32m    312\u001b[0m \u001b[0;34m\u001b[0m\u001b[0m\n\u001b[1;32m    313\u001b[0m         \u001b[0;32mreturn\u001b[0m \u001b[0mwrapper\u001b[0m\u001b[0;34m\u001b[0m\u001b[0;34m\u001b[0m\u001b[0m\n",
      "\u001b[0;32m~/parcel-tracker/CDL-Stats/CDL-Stats/venv/lib/python3.7/site-packages/pandas/io/parsers/readers.py\u001b[0m in \u001b[0;36mread_csv\u001b[0;34m(filepath_or_buffer, sep, delimiter, header, names, index_col, usecols, squeeze, prefix, mangle_dupe_cols, dtype, engine, converters, true_values, false_values, skipinitialspace, skiprows, skipfooter, nrows, na_values, keep_default_na, na_filter, verbose, skip_blank_lines, parse_dates, infer_datetime_format, keep_date_col, date_parser, dayfirst, cache_dates, iterator, chunksize, compression, thousands, decimal, lineterminator, quotechar, quoting, doublequote, escapechar, comment, encoding, encoding_errors, dialect, error_bad_lines, warn_bad_lines, on_bad_lines, delim_whitespace, low_memory, memory_map, float_precision, storage_options)\u001b[0m\n\u001b[1;32m    584\u001b[0m     \u001b[0mkwds\u001b[0m\u001b[0;34m.\u001b[0m\u001b[0mupdate\u001b[0m\u001b[0;34m(\u001b[0m\u001b[0mkwds_defaults\u001b[0m\u001b[0;34m)\u001b[0m\u001b[0;34m\u001b[0m\u001b[0;34m\u001b[0m\u001b[0m\n\u001b[1;32m    585\u001b[0m \u001b[0;34m\u001b[0m\u001b[0m\n\u001b[0;32m--> 586\u001b[0;31m     \u001b[0;32mreturn\u001b[0m \u001b[0m_read\u001b[0m\u001b[0;34m(\u001b[0m\u001b[0mfilepath_or_buffer\u001b[0m\u001b[0;34m,\u001b[0m \u001b[0mkwds\u001b[0m\u001b[0;34m)\u001b[0m\u001b[0;34m\u001b[0m\u001b[0;34m\u001b[0m\u001b[0m\n\u001b[0m\u001b[1;32m    587\u001b[0m \u001b[0;34m\u001b[0m\u001b[0m\n\u001b[1;32m    588\u001b[0m \u001b[0;34m\u001b[0m\u001b[0m\n",
      "\u001b[0;32m~/parcel-tracker/CDL-Stats/CDL-Stats/venv/lib/python3.7/site-packages/pandas/io/parsers/readers.py\u001b[0m in \u001b[0;36m_read\u001b[0;34m(filepath_or_buffer, kwds)\u001b[0m\n\u001b[1;32m    486\u001b[0m \u001b[0;34m\u001b[0m\u001b[0m\n\u001b[1;32m    487\u001b[0m     \u001b[0;32mwith\u001b[0m \u001b[0mparser\u001b[0m\u001b[0;34m:\u001b[0m\u001b[0;34m\u001b[0m\u001b[0;34m\u001b[0m\u001b[0m\n\u001b[0;32m--> 488\u001b[0;31m         \u001b[0;32mreturn\u001b[0m \u001b[0mparser\u001b[0m\u001b[0;34m.\u001b[0m\u001b[0mread\u001b[0m\u001b[0;34m(\u001b[0m\u001b[0mnrows\u001b[0m\u001b[0;34m)\u001b[0m\u001b[0;34m\u001b[0m\u001b[0;34m\u001b[0m\u001b[0m\n\u001b[0m\u001b[1;32m    489\u001b[0m \u001b[0;34m\u001b[0m\u001b[0m\n\u001b[1;32m    490\u001b[0m \u001b[0;34m\u001b[0m\u001b[0m\n",
      "\u001b[0;32m~/parcel-tracker/CDL-Stats/CDL-Stats/venv/lib/python3.7/site-packages/pandas/io/parsers/readers.py\u001b[0m in \u001b[0;36mread\u001b[0;34m(self, nrows)\u001b[0m\n\u001b[1;32m   1057\u001b[0m             \u001b[0mnew_rows\u001b[0m \u001b[0;34m=\u001b[0m \u001b[0mlen\u001b[0m\u001b[0;34m(\u001b[0m\u001b[0mindex\u001b[0m\u001b[0;34m)\u001b[0m\u001b[0;34m\u001b[0m\u001b[0;34m\u001b[0m\u001b[0m\n\u001b[1;32m   1058\u001b[0m \u001b[0;34m\u001b[0m\u001b[0m\n\u001b[0;32m-> 1059\u001b[0;31m         \u001b[0mdf\u001b[0m \u001b[0;34m=\u001b[0m \u001b[0mDataFrame\u001b[0m\u001b[0;34m(\u001b[0m\u001b[0mcol_dict\u001b[0m\u001b[0;34m,\u001b[0m \u001b[0mcolumns\u001b[0m\u001b[0;34m=\u001b[0m\u001b[0mcolumns\u001b[0m\u001b[0;34m,\u001b[0m \u001b[0mindex\u001b[0m\u001b[0;34m=\u001b[0m\u001b[0mindex\u001b[0m\u001b[0;34m)\u001b[0m\u001b[0;34m\u001b[0m\u001b[0;34m\u001b[0m\u001b[0m\n\u001b[0m\u001b[1;32m   1060\u001b[0m \u001b[0;34m\u001b[0m\u001b[0m\n\u001b[1;32m   1061\u001b[0m         \u001b[0mself\u001b[0m\u001b[0;34m.\u001b[0m\u001b[0m_currow\u001b[0m \u001b[0;34m+=\u001b[0m \u001b[0mnew_rows\u001b[0m\u001b[0;34m\u001b[0m\u001b[0;34m\u001b[0m\u001b[0m\n",
      "\u001b[0;32m~/parcel-tracker/CDL-Stats/CDL-Stats/venv/lib/python3.7/site-packages/pandas/core/frame.py\u001b[0m in \u001b[0;36m__init__\u001b[0;34m(self, data, index, columns, dtype, copy)\u001b[0m\n\u001b[1;32m    612\u001b[0m         \u001b[0;32melif\u001b[0m \u001b[0misinstance\u001b[0m\u001b[0;34m(\u001b[0m\u001b[0mdata\u001b[0m\u001b[0;34m,\u001b[0m \u001b[0mdict\u001b[0m\u001b[0;34m)\u001b[0m\u001b[0;34m:\u001b[0m\u001b[0;34m\u001b[0m\u001b[0;34m\u001b[0m\u001b[0m\n\u001b[1;32m    613\u001b[0m             \u001b[0;31m# GH#38939 de facto copy defaults to False only in non-dict cases\u001b[0m\u001b[0;34m\u001b[0m\u001b[0;34m\u001b[0m\u001b[0;34m\u001b[0m\u001b[0m\n\u001b[0;32m--> 614\u001b[0;31m             \u001b[0mmgr\u001b[0m \u001b[0;34m=\u001b[0m \u001b[0mdict_to_mgr\u001b[0m\u001b[0;34m(\u001b[0m\u001b[0mdata\u001b[0m\u001b[0;34m,\u001b[0m \u001b[0mindex\u001b[0m\u001b[0;34m,\u001b[0m \u001b[0mcolumns\u001b[0m\u001b[0;34m,\u001b[0m \u001b[0mdtype\u001b[0m\u001b[0;34m=\u001b[0m\u001b[0mdtype\u001b[0m\u001b[0;34m,\u001b[0m \u001b[0mcopy\u001b[0m\u001b[0;34m=\u001b[0m\u001b[0mcopy\u001b[0m\u001b[0;34m,\u001b[0m \u001b[0mtyp\u001b[0m\u001b[0;34m=\u001b[0m\u001b[0mmanager\u001b[0m\u001b[0;34m)\u001b[0m\u001b[0;34m\u001b[0m\u001b[0;34m\u001b[0m\u001b[0m\n\u001b[0m\u001b[1;32m    615\u001b[0m         \u001b[0;32melif\u001b[0m \u001b[0misinstance\u001b[0m\u001b[0;34m(\u001b[0m\u001b[0mdata\u001b[0m\u001b[0;34m,\u001b[0m \u001b[0mma\u001b[0m\u001b[0;34m.\u001b[0m\u001b[0mMaskedArray\u001b[0m\u001b[0;34m)\u001b[0m\u001b[0;34m:\u001b[0m\u001b[0;34m\u001b[0m\u001b[0;34m\u001b[0m\u001b[0m\n\u001b[1;32m    616\u001b[0m             \u001b[0;32mimport\u001b[0m \u001b[0mnumpy\u001b[0m\u001b[0;34m.\u001b[0m\u001b[0mma\u001b[0m\u001b[0;34m.\u001b[0m\u001b[0mmrecords\u001b[0m \u001b[0;32mas\u001b[0m \u001b[0mmrecords\u001b[0m\u001b[0;34m\u001b[0m\u001b[0;34m\u001b[0m\u001b[0m\n",
      "\u001b[0;32m~/parcel-tracker/CDL-Stats/CDL-Stats/venv/lib/python3.7/site-packages/pandas/core/internals/construction.py\u001b[0m in \u001b[0;36mdict_to_mgr\u001b[0;34m(data, index, columns, dtype, typ, copy)\u001b[0m\n\u001b[1;32m    463\u001b[0m \u001b[0;34m\u001b[0m\u001b[0m\n\u001b[1;32m    464\u001b[0m     return arrays_to_mgr(\n\u001b[0;32m--> 465\u001b[0;31m         \u001b[0marrays\u001b[0m\u001b[0;34m,\u001b[0m \u001b[0mdata_names\u001b[0m\u001b[0;34m,\u001b[0m \u001b[0mindex\u001b[0m\u001b[0;34m,\u001b[0m \u001b[0mcolumns\u001b[0m\u001b[0;34m,\u001b[0m \u001b[0mdtype\u001b[0m\u001b[0;34m=\u001b[0m\u001b[0mdtype\u001b[0m\u001b[0;34m,\u001b[0m \u001b[0mtyp\u001b[0m\u001b[0;34m=\u001b[0m\u001b[0mtyp\u001b[0m\u001b[0;34m,\u001b[0m \u001b[0mconsolidate\u001b[0m\u001b[0;34m=\u001b[0m\u001b[0mcopy\u001b[0m\u001b[0;34m\u001b[0m\u001b[0;34m\u001b[0m\u001b[0m\n\u001b[0m\u001b[1;32m    466\u001b[0m     )\n\u001b[1;32m    467\u001b[0m \u001b[0;34m\u001b[0m\u001b[0m\n",
      "\u001b[0;32m~/parcel-tracker/CDL-Stats/CDL-Stats/venv/lib/python3.7/site-packages/pandas/core/internals/construction.py\u001b[0m in \u001b[0;36marrays_to_mgr\u001b[0;34m(arrays, arr_names, index, columns, dtype, verify_integrity, typ, consolidate)\u001b[0m\n\u001b[1;32m    134\u001b[0m     \u001b[0;32mif\u001b[0m \u001b[0mtyp\u001b[0m \u001b[0;34m==\u001b[0m \u001b[0;34m\"block\"\u001b[0m\u001b[0;34m:\u001b[0m\u001b[0;34m\u001b[0m\u001b[0;34m\u001b[0m\u001b[0m\n\u001b[1;32m    135\u001b[0m         return create_block_manager_from_arrays(\n\u001b[0;32m--> 136\u001b[0;31m             \u001b[0marrays\u001b[0m\u001b[0;34m,\u001b[0m \u001b[0marr_names\u001b[0m\u001b[0;34m,\u001b[0m \u001b[0maxes\u001b[0m\u001b[0;34m,\u001b[0m \u001b[0mconsolidate\u001b[0m\u001b[0;34m=\u001b[0m\u001b[0mconsolidate\u001b[0m\u001b[0;34m\u001b[0m\u001b[0;34m\u001b[0m\u001b[0m\n\u001b[0m\u001b[1;32m    137\u001b[0m         )\n\u001b[1;32m    138\u001b[0m     \u001b[0;32melif\u001b[0m \u001b[0mtyp\u001b[0m \u001b[0;34m==\u001b[0m \u001b[0;34m\"array\"\u001b[0m\u001b[0;34m:\u001b[0m\u001b[0;34m\u001b[0m\u001b[0;34m\u001b[0m\u001b[0m\n",
      "\u001b[0;32m~/parcel-tracker/CDL-Stats/CDL-Stats/venv/lib/python3.7/site-packages/pandas/core/internals/managers.py\u001b[0m in \u001b[0;36mcreate_block_manager_from_arrays\u001b[0;34m(arrays, names, axes, consolidate)\u001b[0m\n\u001b[1;32m   1772\u001b[0m         \u001b[0;32mraise\u001b[0m \u001b[0mconstruction_error\u001b[0m\u001b[0;34m(\u001b[0m\u001b[0mlen\u001b[0m\u001b[0;34m(\u001b[0m\u001b[0marrays\u001b[0m\u001b[0;34m)\u001b[0m\u001b[0;34m,\u001b[0m \u001b[0marrays\u001b[0m\u001b[0;34m[\u001b[0m\u001b[0;36m0\u001b[0m\u001b[0;34m]\u001b[0m\u001b[0;34m.\u001b[0m\u001b[0mshape\u001b[0m\u001b[0;34m,\u001b[0m \u001b[0maxes\u001b[0m\u001b[0;34m,\u001b[0m \u001b[0me\u001b[0m\u001b[0;34m)\u001b[0m\u001b[0;34m\u001b[0m\u001b[0;34m\u001b[0m\u001b[0m\n\u001b[1;32m   1773\u001b[0m     \u001b[0;32mif\u001b[0m \u001b[0mconsolidate\u001b[0m\u001b[0;34m:\u001b[0m\u001b[0;34m\u001b[0m\u001b[0;34m\u001b[0m\u001b[0m\n\u001b[0;32m-> 1774\u001b[0;31m         \u001b[0mmgr\u001b[0m\u001b[0;34m.\u001b[0m\u001b[0m_consolidate_inplace\u001b[0m\u001b[0;34m(\u001b[0m\u001b[0;34m)\u001b[0m\u001b[0;34m\u001b[0m\u001b[0;34m\u001b[0m\u001b[0m\n\u001b[0m\u001b[1;32m   1775\u001b[0m     \u001b[0;32mreturn\u001b[0m \u001b[0mmgr\u001b[0m\u001b[0;34m\u001b[0m\u001b[0;34m\u001b[0m\u001b[0m\n\u001b[1;32m   1776\u001b[0m \u001b[0;34m\u001b[0m\u001b[0m\n",
      "\u001b[0;32m~/parcel-tracker/CDL-Stats/CDL-Stats/venv/lib/python3.7/site-packages/pandas/core/internals/managers.py\u001b[0m in \u001b[0;36m_consolidate_inplace\u001b[0;34m(self)\u001b[0m\n\u001b[1;32m    618\u001b[0m     \u001b[0;32mdef\u001b[0m \u001b[0m_consolidate_inplace\u001b[0m\u001b[0;34m(\u001b[0m\u001b[0mself\u001b[0m\u001b[0;34m)\u001b[0m \u001b[0;34m->\u001b[0m \u001b[0;32mNone\u001b[0m\u001b[0;34m:\u001b[0m\u001b[0;34m\u001b[0m\u001b[0;34m\u001b[0m\u001b[0m\n\u001b[1;32m    619\u001b[0m         \u001b[0;32mif\u001b[0m \u001b[0;32mnot\u001b[0m \u001b[0mself\u001b[0m\u001b[0;34m.\u001b[0m\u001b[0mis_consolidated\u001b[0m\u001b[0;34m(\u001b[0m\u001b[0;34m)\u001b[0m\u001b[0;34m:\u001b[0m\u001b[0;34m\u001b[0m\u001b[0;34m\u001b[0m\u001b[0m\n\u001b[0;32m--> 620\u001b[0;31m             \u001b[0mself\u001b[0m\u001b[0;34m.\u001b[0m\u001b[0mblocks\u001b[0m \u001b[0;34m=\u001b[0m \u001b[0mtuple\u001b[0m\u001b[0;34m(\u001b[0m\u001b[0m_consolidate\u001b[0m\u001b[0;34m(\u001b[0m\u001b[0mself\u001b[0m\u001b[0;34m.\u001b[0m\u001b[0mblocks\u001b[0m\u001b[0;34m)\u001b[0m\u001b[0;34m)\u001b[0m\u001b[0;34m\u001b[0m\u001b[0;34m\u001b[0m\u001b[0m\n\u001b[0m\u001b[1;32m    621\u001b[0m             \u001b[0mself\u001b[0m\u001b[0;34m.\u001b[0m\u001b[0m_is_consolidated\u001b[0m \u001b[0;34m=\u001b[0m \u001b[0;32mTrue\u001b[0m\u001b[0;34m\u001b[0m\u001b[0;34m\u001b[0m\u001b[0m\n\u001b[1;32m    622\u001b[0m             \u001b[0mself\u001b[0m\u001b[0;34m.\u001b[0m\u001b[0m_known_consolidated\u001b[0m \u001b[0;34m=\u001b[0m \u001b[0;32mTrue\u001b[0m\u001b[0;34m\u001b[0m\u001b[0;34m\u001b[0m\u001b[0m\n",
      "\u001b[0;32m~/parcel-tracker/CDL-Stats/CDL-Stats/venv/lib/python3.7/site-packages/pandas/core/internals/managers.py\u001b[0m in \u001b[0;36m_consolidate\u001b[0;34m(blocks)\u001b[0m\n\u001b[1;32m   1969\u001b[0m     \u001b[0;32mfor\u001b[0m \u001b[0;34m(\u001b[0m\u001b[0m_can_consolidate\u001b[0m\u001b[0;34m,\u001b[0m \u001b[0mdtype\u001b[0m\u001b[0;34m)\u001b[0m\u001b[0;34m,\u001b[0m \u001b[0mgroup_blocks\u001b[0m \u001b[0;32min\u001b[0m \u001b[0mgrouper\u001b[0m\u001b[0;34m:\u001b[0m\u001b[0;34m\u001b[0m\u001b[0;34m\u001b[0m\u001b[0m\n\u001b[1;32m   1970\u001b[0m         merged_blocks = _merge_blocks(\n\u001b[0;32m-> 1971\u001b[0;31m             \u001b[0mlist\u001b[0m\u001b[0;34m(\u001b[0m\u001b[0mgroup_blocks\u001b[0m\u001b[0;34m)\u001b[0m\u001b[0;34m,\u001b[0m \u001b[0mdtype\u001b[0m\u001b[0;34m=\u001b[0m\u001b[0mdtype\u001b[0m\u001b[0;34m,\u001b[0m \u001b[0mcan_consolidate\u001b[0m\u001b[0;34m=\u001b[0m\u001b[0m_can_consolidate\u001b[0m\u001b[0;34m\u001b[0m\u001b[0;34m\u001b[0m\u001b[0m\n\u001b[0m\u001b[1;32m   1972\u001b[0m         )\n\u001b[1;32m   1973\u001b[0m         \u001b[0mnew_blocks\u001b[0m \u001b[0;34m=\u001b[0m \u001b[0mextend_blocks\u001b[0m\u001b[0;34m(\u001b[0m\u001b[0mmerged_blocks\u001b[0m\u001b[0;34m,\u001b[0m \u001b[0mnew_blocks\u001b[0m\u001b[0;34m)\u001b[0m\u001b[0;34m\u001b[0m\u001b[0;34m\u001b[0m\u001b[0m\n",
      "\u001b[0;32m~/parcel-tracker/CDL-Stats/CDL-Stats/venv/lib/python3.7/site-packages/pandas/core/internals/managers.py\u001b[0m in \u001b[0;36m_merge_blocks\u001b[0;34m(blocks, dtype, can_consolidate)\u001b[0m\n\u001b[1;32m   2001\u001b[0m             \u001b[0mnew_values\u001b[0m \u001b[0;34m=\u001b[0m \u001b[0mbvals2\u001b[0m\u001b[0;34m[\u001b[0m\u001b[0;36m0\u001b[0m\u001b[0;34m]\u001b[0m\u001b[0;34m.\u001b[0m\u001b[0m_concat_same_type\u001b[0m\u001b[0;34m(\u001b[0m\u001b[0mbvals2\u001b[0m\u001b[0;34m,\u001b[0m \u001b[0maxis\u001b[0m\u001b[0;34m=\u001b[0m\u001b[0;36m0\u001b[0m\u001b[0;34m)\u001b[0m\u001b[0;34m\u001b[0m\u001b[0;34m\u001b[0m\u001b[0m\n\u001b[1;32m   2002\u001b[0m \u001b[0;34m\u001b[0m\u001b[0m\n\u001b[0;32m-> 2003\u001b[0;31m         \u001b[0margsort\u001b[0m \u001b[0;34m=\u001b[0m \u001b[0mnp\u001b[0m\u001b[0;34m.\u001b[0m\u001b[0margsort\u001b[0m\u001b[0;34m(\u001b[0m\u001b[0mnew_mgr_locs\u001b[0m\u001b[0;34m)\u001b[0m\u001b[0;34m\u001b[0m\u001b[0;34m\u001b[0m\u001b[0m\n\u001b[0m\u001b[1;32m   2004\u001b[0m         \u001b[0mnew_values\u001b[0m \u001b[0;34m=\u001b[0m \u001b[0mnew_values\u001b[0m\u001b[0;34m[\u001b[0m\u001b[0margsort\u001b[0m\u001b[0;34m]\u001b[0m\u001b[0;34m\u001b[0m\u001b[0;34m\u001b[0m\u001b[0m\n\u001b[1;32m   2005\u001b[0m         \u001b[0mnew_mgr_locs\u001b[0m \u001b[0;34m=\u001b[0m \u001b[0mnew_mgr_locs\u001b[0m\u001b[0;34m[\u001b[0m\u001b[0margsort\u001b[0m\u001b[0;34m]\u001b[0m\u001b[0;34m\u001b[0m\u001b[0;34m\u001b[0m\u001b[0m\n",
      "\u001b[0;32m<__array_function__ internals>\u001b[0m in \u001b[0;36margsort\u001b[0;34m(*args, **kwargs)\u001b[0m\n",
      "\u001b[0;32m~/parcel-tracker/CDL-Stats/CDL-Stats/venv/lib/python3.7/site-packages/numpy/core/fromnumeric.py\u001b[0m in \u001b[0;36margsort\u001b[0;34m(a, axis, kind, order)\u001b[0m\n\u001b[1;32m   1112\u001b[0m \u001b[0;34m\u001b[0m\u001b[0m\n\u001b[1;32m   1113\u001b[0m     \"\"\"\n\u001b[0;32m-> 1114\u001b[0;31m     \u001b[0;32mreturn\u001b[0m \u001b[0m_wrapfunc\u001b[0m\u001b[0;34m(\u001b[0m\u001b[0ma\u001b[0m\u001b[0;34m,\u001b[0m \u001b[0;34m'argsort'\u001b[0m\u001b[0;34m,\u001b[0m \u001b[0maxis\u001b[0m\u001b[0;34m=\u001b[0m\u001b[0maxis\u001b[0m\u001b[0;34m,\u001b[0m \u001b[0mkind\u001b[0m\u001b[0;34m=\u001b[0m\u001b[0mkind\u001b[0m\u001b[0;34m,\u001b[0m \u001b[0morder\u001b[0m\u001b[0;34m=\u001b[0m\u001b[0morder\u001b[0m\u001b[0;34m)\u001b[0m\u001b[0;34m\u001b[0m\u001b[0;34m\u001b[0m\u001b[0m\n\u001b[0m\u001b[1;32m   1115\u001b[0m \u001b[0;34m\u001b[0m\u001b[0m\n\u001b[1;32m   1116\u001b[0m \u001b[0;34m\u001b[0m\u001b[0m\n",
      "\u001b[0;32m~/parcel-tracker/CDL-Stats/CDL-Stats/venv/lib/python3.7/site-packages/numpy/core/fromnumeric.py\u001b[0m in \u001b[0;36m_wrapfunc\u001b[0;34m(obj, method, *args, **kwds)\u001b[0m\n\u001b[1;32m     55\u001b[0m \u001b[0;34m\u001b[0m\u001b[0m\n\u001b[1;32m     56\u001b[0m     \u001b[0;32mtry\u001b[0m\u001b[0;34m:\u001b[0m\u001b[0;34m\u001b[0m\u001b[0;34m\u001b[0m\u001b[0m\n\u001b[0;32m---> 57\u001b[0;31m         \u001b[0;32mreturn\u001b[0m \u001b[0mbound\u001b[0m\u001b[0;34m(\u001b[0m\u001b[0;34m*\u001b[0m\u001b[0margs\u001b[0m\u001b[0;34m,\u001b[0m \u001b[0;34m**\u001b[0m\u001b[0mkwds\u001b[0m\u001b[0;34m)\u001b[0m\u001b[0;34m\u001b[0m\u001b[0;34m\u001b[0m\u001b[0m\n\u001b[0m\u001b[1;32m     58\u001b[0m     \u001b[0;32mexcept\u001b[0m \u001b[0mTypeError\u001b[0m\u001b[0;34m:\u001b[0m\u001b[0;34m\u001b[0m\u001b[0;34m\u001b[0m\u001b[0m\n\u001b[1;32m     59\u001b[0m         \u001b[0;31m# A TypeError occurs if the object does have such a method in its\u001b[0m\u001b[0;34m\u001b[0m\u001b[0;34m\u001b[0m\u001b[0;34m\u001b[0m\u001b[0m\n",
      "\u001b[0;31mKeyboardInterrupt\u001b[0m: "
     ]
    }
   ],
   "source": [
    "control_model(c, tm)"
   ]
  },
  {
   "cell_type": "code",
   "execution_count": null,
   "metadata": {},
   "outputs": [
    {
     "data": {
      "text/plain": [
       "['TX']"
      ]
     },
     "execution_count": 12,
     "metadata": {},
     "output_type": "execute_result"
    }
   ],
   "source": [
    "snd_model(s, tm)"
   ]
  },
  {
   "cell_type": "code",
   "execution_count": null,
   "metadata": {},
   "outputs": [],
   "source": [
    "def full_results(team1, team2):\n",
    "    team_map_1 = {0: team1,\n",
    "                1: team2}\n",
    "    team_map_2 = {0: team2,\n",
    "                  1: team1}\n",
    "    \n",
    "    data = read_in_all_matches()\n",
    "    s1, h1, c1 = head_to_head(data, team1, team2)\n",
    "    s2, h2, c2 = head_to_head(data, team2, team1)\n",
    "    s1 = snd_model(s1, team_map_1)\n",
    "    s2 = snd_model(s2, team_map_2)\n",
    "    h1 = hardpoint_model(h1, team_map_1)\n",
    "    h2 = hardpoint_model(h2, team_map_2)\n",
    "    c1 = control_model(c1, team_map_1)\n",
    "    c2 = control_model(c2, team_map_2)\n",
    "    hardpoint_results = [h1[0],h2[0]]\n",
    "    search_results = [s1[0], s2[0]]\n",
    "    control_results = [c1[0], c2[0]]\n",
    "\n",
    "    print(f\"Hardpoint 1: {hardpoint_results[0]}\\nSearch and Destroy 1: {search_results[0]}\\nControl:\\\n",
    "{control_results[0]} - {control_results[1]}\\nHardpoint 2: {hardpoint_results[1]}\\nSearch and Destroy 2: {search_results[1]}\")\n",
    "    "
   ]
  },
  {
   "cell_type": "code",
   "execution_count": null,
   "metadata": {},
   "outputs": [
    {
     "name": "stdout",
     "output_type": "stream",
     "text": [
      "Hardpoint 1: TX\n",
      "Search and Destroy 1: TX\n",
      "Control:TX - TX\n",
      "Hardpoint 2: TX\n",
      "Search and Destroy 2: TX\n"
     ]
    }
   ],
   "source": [
    "full_results(\"LDN\", 'TX')"
   ]
  },
  {
   "cell_type": "code",
   "execution_count": null,
   "metadata": {},
   "outputs": [],
   "source": [
    "\n",
    "s, h, c = head_to_head(read_in_all_matches(), \"TX\", \"ATL\")\n",
    "s1, h1, c1 = head_to_head(read_in_all_matches(), \"ATL\", \"TX\")\n",
    "\n",
    "team_map = {0:\"TX\",\n",
    "            1: \"ATL\"}\n",
    "\n",
    "team_map1 = {0:\"ATL\",\n",
    "            1: \"TX\"}\n",
    "control = control_model(c, team_map=team_map, sim_count=500)\n",
    "control1 = control_model(c1, team_map=team_map1, sim_count=500)\n",
    "\n",
    "search = snd_model(s, team_map=team_map, sim_count=500)\n",
    "search1 = snd_model(s1, team_map=team_map1, sim_count=500)\n",
    "\n",
    "hardpoint = hardpoint_model(h, team_map=team_map, sim_count=500)\n",
    "hardpoint1 = hardpoint_model(h1, team_map=team_map1, sim_count=500)\n",
    "    "
   ]
  },
  {
   "cell_type": "code",
   "execution_count": null,
   "metadata": {},
   "outputs": [
    {
     "data": {
      "text/plain": [
       "Counter({'ATL': 136, 'TX': 486, 'ATl': 378})"
      ]
     },
     "execution_count": 43,
     "metadata": {},
     "output_type": "execute_result"
    }
   ],
   "source": [
    "from collections import Counter as count\n",
    "hardpoint.extend(hardpoint1)\n",
    "count(hardpoint)"
   ]
  },
  {
   "cell_type": "code",
   "execution_count": 48,
   "metadata": {},
   "outputs": [],
   "source": [
    "def simulate_matchup(t1, t2 , n_iters):\n",
    "    s, h, c = head_to_head(read_in_all_matches(), t1, t2)\n",
    "    s1, h1, c1 = head_to_head(read_in_all_matches(), t2, t1)\n",
    "\n",
    "    team_map = {0:t1,\n",
    "                1: t2}\n",
    "\n",
    "    team_map1 = {0:t2,\n",
    "                1: t1}\n",
    "    control = control_model(c, team_map=team_map, sim_count=n_iters)\n",
    "    control1 = control_model(c1, team_map=team_map1, sim_count=n_iters)\n",
    "\n",
    "    search = snd_model(s, team_map=team_map, sim_count=n_iters)\n",
    "    search1 = snd_model(s1, team_map=team_map1, sim_count=n_iters)\n",
    "\n",
    "    hardpoint = hardpoint_model(h, team_map=team_map, sim_count=n_iters)\n",
    "    hardpoint1 = hardpoint_model(h1, team_map=team_map1, sim_count=n_iters)\n",
    "\n",
    "    control.extend(control1)\n",
    "    search.extend(search1)\n",
    "    hardpoint.extend(hardpoint1)\n",
    "\n",
    "    results = {'HARDPOINT' : count(hardpoint),\n",
    "               'CONTROL': count(control),\n",
    "               'SEARCH': count(search)}\n",
    "    \n",
    "    return results\n",
    "\n",
    "    \n"
   ]
  },
  {
   "cell_type": "code",
   "execution_count": 49,
   "metadata": {},
   "outputs": [],
   "source": [
    "par_lag = simulate_matchup(\"LV\", \"LAG\", 500)"
   ]
  },
  {
   "cell_type": "code",
   "execution_count": 50,
   "metadata": {},
   "outputs": [],
   "source": [
    "lat_min = simulate_matchup(\"LAT\", \"MIN\", 500)"
   ]
  },
  {
   "cell_type": "code",
   "execution_count": 51,
   "metadata": {},
   "outputs": [],
   "source": [
    "ldn_opt = simulate_matchup(\"LDN\", \"TX\", 500)"
   ]
  },
  {
   "cell_type": "code",
   "execution_count": 52,
   "metadata": {},
   "outputs": [],
   "source": [
    "ny_fla = simulate_matchup(\"NY\", \"FLA\", 500)"
   ]
  },
  {
   "cell_type": "code",
   "execution_count": 53,
   "metadata": {},
   "outputs": [
    {
     "data": {
      "text/plain": [
       "{'HARDPOINT': Counter({'FLA': 521, 'NY': 479}),\n",
       " 'CONTROL': Counter({'NY': 1000}),\n",
       " 'SEARCH': Counter({'FLA': 501, 'NY': 499})}"
      ]
     },
     "execution_count": 53,
     "metadata": {},
     "output_type": "execute_result"
    }
   ],
   "source": [
    "ny_fla"
   ]
  },
  {
   "cell_type": "code",
   "execution_count": 54,
   "metadata": {},
   "outputs": [
    {
     "data": {
      "text/plain": [
       "{'HARDPOINT': Counter({'TX': 1000}),\n",
       " 'CONTROL': Counter({'TX': 1000}),\n",
       " 'SEARCH': Counter({'TX': 1000})}"
      ]
     },
     "execution_count": 54,
     "metadata": {},
     "output_type": "execute_result"
    }
   ],
   "source": [
    "ldn_opt"
   ]
  },
  {
   "cell_type": "code",
   "execution_count": 55,
   "metadata": {},
   "outputs": [
    {
     "data": {
      "text/plain": [
       "{'HARDPOINT': Counter({'LAT': 982, 'MIN': 18}),\n",
       " 'CONTROL': Counter({'LAT': 1000}),\n",
       " 'SEARCH': Counter({'LAT': 985, 'MIN': 15})}"
      ]
     },
     "execution_count": 55,
     "metadata": {},
     "output_type": "execute_result"
    }
   ],
   "source": [
    "lat_min"
   ]
  },
  {
   "cell_type": "code",
   "execution_count": 56,
   "metadata": {},
   "outputs": [
    {
     "data": {
      "text/plain": [
       "{'HARDPOINT': Counter({'LAG': 992, 'LV': 8}),\n",
       " 'CONTROL': Counter({'LAG': 1000}),\n",
       " 'SEARCH': Counter({'LAG': 1000})}"
      ]
     },
     "execution_count": 56,
     "metadata": {},
     "output_type": "execute_result"
    }
   ],
   "source": [
    "par_lag"
   ]
  },
  {
   "cell_type": "code",
   "execution_count": 57,
   "metadata": {},
   "outputs": [],
   "source": [
    "bos_tor = simulate_matchup(\"BOS\", \"TOR\", 500)"
   ]
  },
  {
   "cell_type": "code",
   "execution_count": 58,
   "metadata": {},
   "outputs": [
    {
     "data": {
      "text/plain": [
       "{'HARDPOINT': Counter({'BOS': 1000}),\n",
       " 'CONTROL': Counter({'TOR': 921, 'BOS': 79}),\n",
       " 'SEARCH': Counter({'BOS': 1000})}"
      ]
     },
     "execution_count": 58,
     "metadata": {},
     "output_type": "execute_result"
    }
   ],
   "source": [
    "bos_tor"
   ]
  },
  {
   "cell_type": "code",
   "execution_count": 59,
   "metadata": {},
   "outputs": [],
   "source": [
    "faze_sea = simulate_matchup(\"ATL\", \"SEA\", 500)"
   ]
  },
  {
   "cell_type": "code",
   "execution_count": 60,
   "metadata": {},
   "outputs": [
    {
     "data": {
      "text/plain": [
       "{'HARDPOINT': Counter({'ATL': 998, 'SEA': 2}),\n",
       " 'CONTROL': Counter({'ATL': 1000}),\n",
       " 'SEARCH': Counter({'ATL': 1000})}"
      ]
     },
     "execution_count": 60,
     "metadata": {},
     "output_type": "execute_result"
    }
   ],
   "source": [
    "faze_sea"
   ]
  }
 ],
 "metadata": {
  "kernelspec": {
   "display_name": "venv",
   "language": "python",
   "name": "python3"
  },
  "language_info": {
   "codemirror_mode": {
    "name": "ipython",
    "version": 3
   },
   "file_extension": ".py",
   "mimetype": "text/x-python",
   "name": "python",
   "nbconvert_exporter": "python",
   "pygments_lexer": "ipython3",
<<<<<<< HEAD
   "version": "3.9.16"
=======
   "version": "3.7.3"
>>>>>>> fdd495ae67aa10c2ee94b55751db8371c68ad4f0
  },
  "orig_nbformat": 4
 },
 "nbformat": 4,
 "nbformat_minor": 2
}
