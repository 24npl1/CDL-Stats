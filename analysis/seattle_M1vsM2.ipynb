{
 "cells": [
  {
   "attachments": {},
   "cell_type": "markdown",
   "metadata": {},
   "source": [
    "# After Seattle Surge's poor performance across the major 2 qualifiers, I've decided to look into the possible reasons why they struggled and identify key areas\n"
   ]
  },
  {
   "attachments": {},
   "cell_type": "markdown",
   "metadata": {},
   "source": [
    "#### Firstly, I will import the necessary packages"
   ]
  },
  {
   "cell_type": "code",
   "execution_count": 4,
   "metadata": {},
   "outputs": [],
   "source": [
    "import matplotlib.pyplot as plt\n",
    "import pandas as pd\n",
    "import numpy as np\n",
    "import seaborn as sns\n",
    "\n",
    "from analysis_utils import filter_teams_games, all_modes_agg"
   ]
  },
  {
   "attachments": {},
   "cell_type": "markdown",
   "metadata": {},
   "source": [
    "#### Next, I will load in the games played and combine them into major1 and major2 datasets"
   ]
  },
  {
   "cell_type": "code",
   "execution_count": 5,
   "metadata": {},
   "outputs": [],
   "source": [
    "# Read in all datasets\n",
    "m1w1 = pd.read_csv('../data/major1_week1_short.csv')\n",
    "m1w2 = pd.read_csv('../data/major1_week2_short.csv')\n",
    "m2w1 = pd.read_csv('../data/major2_week1_short.csv')\n",
    "m2w2 = pd.read_csv('../data/major2_week2_short.csv')\n",
    "m2w3 = pd.read_csv('../data/major2_week3_short.csv')\n",
    "\n",
    "# Combine datasets so there is 1 for each major\n",
    "major1_df = pd.concat([m1w1, m1w2])\n",
    "major2_df = pd.concat([m2w1, m2w2, m2w3])\n",
    "\n",
    "# Filter to only games playes by seattle\n",
    "sea_m1 = filter_teams_games(major1_df, 'Seattle Surge').drop(axis=1, columns='index')\n",
    "sea_m2 = filter_teams_games(major1_df, 'Seattle Surge').drop(axis=1, columns='index')"
   ]
  },
  {
   "attachments": {},
   "cell_type": "markdown",
   "metadata": {},
   "source": [
    "#### Next, I will split each dataframe into different gamemodes"
   ]
  },
  {
   "cell_type": "code",
   "execution_count": 6,
   "metadata": {},
   "outputs": [
    {
     "ename": "AttributeError",
     "evalue": "'DataFrame' object has no attribute 'groupBy'",
     "output_type": "error",
     "traceback": [
      "\u001b[0;31m---------------------------------------------------------------------------\u001b[0m",
      "\u001b[0;31mAttributeError\u001b[0m                            Traceback (most recent call last)",
      "\u001b[0;32m/var/folders/17/vpppp3bj61zf7czx0x_3swmw0000gn/T/ipykernel_9311/1620519660.py\u001b[0m in \u001b[0;36m<module>\u001b[0;34m\u001b[0m\n\u001b[1;32m      7\u001b[0m \u001b[0msea_m2_ctrl\u001b[0m \u001b[0;34m=\u001b[0m \u001b[0msea_m2\u001b[0m\u001b[0;34m[\u001b[0m\u001b[0msea_m1\u001b[0m\u001b[0;34m[\u001b[0m\u001b[0;34m'mode'\u001b[0m\u001b[0;34m]\u001b[0m\u001b[0;34m==\u001b[0m\u001b[0;34m'Control'\u001b[0m\u001b[0;34m]\u001b[0m\u001b[0;34m.\u001b[0m\u001b[0mdropna\u001b[0m\u001b[0;34m(\u001b[0m\u001b[0maxis\u001b[0m\u001b[0;34m=\u001b[0m\u001b[0;36m1\u001b[0m\u001b[0;34m)\u001b[0m\u001b[0;34m.\u001b[0m\u001b[0mreset_index\u001b[0m\u001b[0;34m(\u001b[0m\u001b[0;34m)\u001b[0m\u001b[0;34m\u001b[0m\u001b[0;34m\u001b[0m\u001b[0m\n\u001b[1;32m      8\u001b[0m \u001b[0;34m\u001b[0m\u001b[0m\n\u001b[0;32m----> 9\u001b[0;31m \u001b[0mdf\u001b[0m \u001b[0;34m=\u001b[0m \u001b[0mall_modes_agg\u001b[0m\u001b[0;34m(\u001b[0m\u001b[0msea_m2\u001b[0m\u001b[0;34m,\u001b[0m \u001b[0;34m'hardpoint'\u001b[0m\u001b[0;34m)\u001b[0m\u001b[0;34m\u001b[0m\u001b[0;34m\u001b[0m\u001b[0m\n\u001b[0m\u001b[1;32m     10\u001b[0m \u001b[0;34m\u001b[0m\u001b[0m\n\u001b[1;32m     11\u001b[0m \u001b[0;34m\u001b[0m\u001b[0m\n",
      "\u001b[0;32m~/parcel-tracker/CDL-Stats/CDL-Stats/analysis/analysis_utils.py\u001b[0m in \u001b[0;36mall_modes_agg\u001b[0;34m(dataframe, mode)\u001b[0m\n\u001b[1;32m     39\u001b[0m     \u001b[0mdf_numeric\u001b[0m \u001b[0;34m=\u001b[0m \u001b[0mdataframe\u001b[0m\u001b[0;34m.\u001b[0m\u001b[0mselect_dtypes\u001b[0m\u001b[0;34m(\u001b[0m\u001b[0minclude\u001b[0m\u001b[0;34m=\u001b[0m\u001b[0;34m\"number\"\u001b[0m\u001b[0;34m)\u001b[0m\u001b[0;34m\u001b[0m\u001b[0;34m\u001b[0m\u001b[0m\n\u001b[1;32m     40\u001b[0m     \u001b[0mdf_numeric\u001b[0m\u001b[0;34m[\u001b[0m\u001b[0;34m'player'\u001b[0m\u001b[0;34m]\u001b[0m \u001b[0;34m=\u001b[0m \u001b[0mdataframe\u001b[0m\u001b[0;34m[\u001b[0m\u001b[0;34m'player'\u001b[0m\u001b[0;34m]\u001b[0m\u001b[0;34m\u001b[0m\u001b[0;34m\u001b[0m\u001b[0m\n\u001b[0;32m---> 41\u001b[0;31m     \u001b[0mdf_numeric\u001b[0m \u001b[0;34m=\u001b[0m \u001b[0mdf_numeric\u001b[0m\u001b[0;34m.\u001b[0m\u001b[0mgroupby\u001b[0m\u001b[0;34m(\u001b[0m\u001b[0;34m'player'\u001b[0m\u001b[0;34m)\u001b[0m\u001b[0;34m.\u001b[0m\u001b[0magg\u001b[0m\u001b[0;34m(\u001b[0m\u001b[0;34m'sum'\u001b[0m\u001b[0;34m)\u001b[0m\u001b[0;34m\u001b[0m\u001b[0;34m\u001b[0m\u001b[0m\n\u001b[0m\u001b[1;32m     42\u001b[0m     \u001b[0mdf_numeric\u001b[0m\u001b[0;34m[\u001b[0m\u001b[0;34m'kd'\u001b[0m\u001b[0;34m]\u001b[0m \u001b[0;34m=\u001b[0m \u001b[0mdf_numeric\u001b[0m\u001b[0;34m[\u001b[0m\u001b[0;34m'kills'\u001b[0m\u001b[0;34m]\u001b[0m\u001b[0;34m/\u001b[0m\u001b[0mdf_numeric\u001b[0m\u001b[0;34m[\u001b[0m\u001b[0;34m'deaths'\u001b[0m\u001b[0;34m]\u001b[0m\u001b[0;34m\u001b[0m\u001b[0;34m\u001b[0m\u001b[0m\n\u001b[1;32m     43\u001b[0m     \u001b[0mdf_numeric\u001b[0m\u001b[0;34m[\u001b[0m\u001b[0;34m'kills per 10'\u001b[0m\u001b[0;34m]\u001b[0m \u001b[0;34m=\u001b[0m \u001b[0;34m(\u001b[0m\u001b[0mdf_numeric\u001b[0m\u001b[0;34m[\u001b[0m\u001b[0;34m'kills'\u001b[0m\u001b[0;34m]\u001b[0m\u001b[0;34m/\u001b[0m\u001b[0mdf_numeric\u001b[0m\u001b[0;34m[\u001b[0m\u001b[0;34m'gametime'\u001b[0m\u001b[0;34m]\u001b[0m\u001b[0;34m)\u001b[0m\u001b[0;34m*\u001b[0m\u001b[0;36m10\u001b[0m\u001b[0;34m\u001b[0m\u001b[0;34m\u001b[0m\u001b[0m\n",
      "\u001b[0;32m~/parcel-tracker/CDL-Stats/CDL-Stats/venv/lib/python3.7/site-packages/pandas/core/generic.py\u001b[0m in \u001b[0;36m__getattr__\u001b[0;34m(self, name)\u001b[0m\n\u001b[1;32m   5476\u001b[0m         ):\n\u001b[1;32m   5477\u001b[0m             \u001b[0;32mreturn\u001b[0m \u001b[0mself\u001b[0m\u001b[0;34m[\u001b[0m\u001b[0mname\u001b[0m\u001b[0;34m]\u001b[0m\u001b[0;34m\u001b[0m\u001b[0;34m\u001b[0m\u001b[0m\n\u001b[0;32m-> 5478\u001b[0;31m         \u001b[0;32mreturn\u001b[0m \u001b[0mobject\u001b[0m\u001b[0;34m.\u001b[0m\u001b[0m__getattribute__\u001b[0m\u001b[0;34m(\u001b[0m\u001b[0mself\u001b[0m\u001b[0;34m,\u001b[0m \u001b[0mname\u001b[0m\u001b[0;34m)\u001b[0m\u001b[0;34m\u001b[0m\u001b[0;34m\u001b[0m\u001b[0m\n\u001b[0m\u001b[1;32m   5479\u001b[0m \u001b[0;34m\u001b[0m\u001b[0m\n\u001b[1;32m   5480\u001b[0m     \u001b[0;32mdef\u001b[0m \u001b[0m__setattr__\u001b[0m\u001b[0;34m(\u001b[0m\u001b[0mself\u001b[0m\u001b[0;34m,\u001b[0m \u001b[0mname\u001b[0m\u001b[0;34m:\u001b[0m \u001b[0mstr\u001b[0m\u001b[0;34m,\u001b[0m \u001b[0mvalue\u001b[0m\u001b[0;34m)\u001b[0m \u001b[0;34m->\u001b[0m \u001b[0;32mNone\u001b[0m\u001b[0;34m:\u001b[0m\u001b[0;34m\u001b[0m\u001b[0;34m\u001b[0m\u001b[0m\n",
      "\u001b[0;31mAttributeError\u001b[0m: 'DataFrame' object has no attribute 'groupBy'"
     ]
    }
   ],
   "source": [
    "sea_m1_hp = sea_m1[sea_m1['mode']=='Hardpoint'].dropna(axis=1).reset_index()\n",
    "sea_m1_snd = sea_m1[sea_m1['mode']=='SearchandDestroy'].dropna(axis=1).reset_index()\n",
    "sea_m1_ctrl = sea_m1[sea_m1['mode']=='Control'].dropna(axis=1).reset_index()\n",
    "\n",
    "sea_m2_hp = sea_m2[sea_m1['mode']=='Hardpoint'].dropna(axis=1).reset_index()\n",
    "sea_m2_snd = sea_m2[sea_m1['mode']=='SearchandDestroy'].dropna(axis=1).reset_index()\n",
    "sea_m2_ctrl = sea_m2[sea_m1['mode']=='Control'].dropna(axis=1).reset_index()\n",
    "\n",
    "df = all_modes_agg(sea_m2, 'hardpoint')\n",
    "\n",
    "\n",
    "#sns.scatterplot(data=sea_m2_snd, x='kills', y='deaths', hue='player', style='map_outcome')"
   ]
  }
 ],
 "metadata": {
  "kernelspec": {
   "display_name": "venv",
   "language": "python",
   "name": "python3"
  },
  "language_info": {
   "codemirror_mode": {
    "name": "ipython",
    "version": 3
   },
   "file_extension": ".py",
   "mimetype": "text/x-python",
   "name": "python",
   "nbconvert_exporter": "python",
   "pygments_lexer": "ipython3",
   "version": "3.7.3"
  },
  "orig_nbformat": 4,
  "vscode": {
   "interpreter": {
    "hash": "c9d9dd7fefa9853ac7b3a25faeb8a95ff089784964c3a6df917190aab23d03f0"
   }
  }
 },
 "nbformat": 4,
 "nbformat_minor": 2
}
